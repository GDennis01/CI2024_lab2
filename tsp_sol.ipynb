{
 "cells": [
  {
   "cell_type": "markdown",
   "metadata": {
    "vscode": {
     "languageId": "plaintext"
    }
   },
   "source": [
    "Copyright **`(c)`** 2024 Giovanni Squillero `<giovanni.squillero@polito.it>`  \n",
    "[`https://github.com/squillero/computational-intelligence`](https://github.com/squillero/computational-intelligence)  \n",
    "Free under certain conditions — see the [`license`](https://github.com/squillero/computational-intelligence/blob/master/LICENSE.md) for details.  "
   ]
  },
  {
   "cell_type": "code",
   "execution_count": 701,
   "metadata": {},
   "outputs": [],
   "source": [
    "import logging\n",
    "from itertools import combinations,permutations\n",
    "from dataclasses import dataclass\n",
    "import pandas as pd\n",
    "import numpy as np\n",
    "import geopy.distance\n",
    "import random\n",
    "import copy\n",
    "\n",
    "from tqdm import tqdm\n",
    "from icecream import ic\n",
    "\n",
    "logging.basicConfig(level=logging.DEBUG)"
   ]
  },
  {
   "cell_type": "markdown",
   "metadata": {},
   "source": [
    "## Lab2 - TSP\n",
    "\n"
   ]
  },
  {
   "cell_type": "code",
   "execution_count": 702,
   "metadata": {},
   "outputs": [],
   "source": [
    "cities = pd.read_csv('cities/italy.csv', header=None, names=['name', 'lat', 'lon'])\n",
    "cities.head()\n",
    "\n",
    "N_STEPS = 100_000"
   ]
  },
  {
   "cell_type": "code",
   "execution_count": 703,
   "metadata": {},
   "outputs": [],
   "source": [
    "dist_matrix = np.zeros((len(cities), len(cities)))\n",
    "for c1, c2 in combinations(cities.itertuples(), 2):\n",
    "    dist_matrix[c1.Index, c2.Index] = dist_matrix[c2.Index, c1.Index] = geopy.distance.geodesic(\n",
    "        (c1.lat, c1.lon), (c2.lat, c2.lon)\n",
    "    ).km"
   ]
  },
  {
   "cell_type": "code",
   "execution_count": 704,
   "metadata": {},
   "outputs": [],
   "source": [
    "@dataclass\n",
    "class Individual:\n",
    "    genome:list[int]\n",
    "    fitness:float=None\n",
    "\n",
    "def fitness(individual:Individual)->int:\n",
    "    tot_cost = 0\n",
    "    for c1, c2 in zip(individual.genome, individual.genome[1:]):\n",
    "        tot_cost += dist_matrix[c1, c2]\n",
    "    return tot_cost\n"
   ]
  },
  {
   "cell_type": "markdown",
   "metadata": {},
   "source": [
    "## Crossover Algorithms"
   ]
  },
  {
   "cell_type": "code",
   "execution_count": 705,
   "metadata": {},
   "outputs": [],
   "source": [
    "def crossover(parent1: Individual, parent2: Individual) -> Individual:\n",
    "    cut_point = np.random.randint(len(parent1.genome))\n",
    "\n",
    "    offspring = [None] * len(parent1.genome)\n",
    "    \n",
    "    genome_p1 = parent1.genome[:cut_point]\n",
    "    offspring[:cut_point] = genome_p1\n",
    "    \n",
    "    genome_p2 = parent2.genome\n",
    "    fill_idx = cut_point\n",
    "    \n",
    "    for gene in genome_p2:\n",
    "        if gene not in offspring:\n",
    "            offspring[fill_idx] = gene\n",
    "            fill_idx += 1\n",
    "    \n",
    "    offspring = [gene for gene in offspring if gene is not None]\n",
    "    offspring.append(offspring[0])\n",
    "\n",
    "    \n",
    "    return Individual(offspring)\n",
    "\n",
    "def PMX_crossover(parent1:Individual, parent2:Individual)->tuple[Individual,Individual]:\n",
    "    cut_1, cut_2 = sorted(np.random.choice(len(cities), size=2, replace=False))\n",
    "\n",
    "    offspring1 = [None] * len(cities)\n",
    "    offspring2 = [None] * len(cities)\n",
    "\n",
    "    genome_p1 = parent1.genome.copy()[:-1]\n",
    "    genome_p2 = parent2.genome.copy()[:-1]\n",
    "\n",
    "    offspring1[cut_1:cut_2] = genome_p2[cut_1:cut_2]\n",
    "    offspring2[cut_1:cut_2] = genome_p1[cut_1:cut_2]\n",
    "\n",
    "    boundary_idx = list(range(0,cut_1)) + list(range(cut_2,len(cities)))\n",
    "    \n",
    "    for i in boundary_idx:\n",
    "        if genome_p1[i] not in offspring1:\n",
    "            offspring1[i] = genome_p1[i]\n",
    "        else:\n",
    "            tmp = genome_p1[i]\n",
    "            j = i\n",
    "            while tmp in offspring1:\n",
    "                j = offspring1.index(genome_p1[j])\n",
    "                tmp = offspring2[j]\n",
    "            offspring1[i] = tmp\n",
    "\n",
    "    for i in boundary_idx:\n",
    "        if genome_p2[i] not in offspring2:\n",
    "            offspring2[i] = genome_p2[i]\n",
    "        else:\n",
    "            tmp = genome_p2[i]\n",
    "            j = i\n",
    "            while tmp in offspring2:\n",
    "                j = offspring2.index(genome_p2[j])\n",
    "                tmp = offspring1[j]\n",
    "            offspring2[i] = tmp\n",
    "    \n",
    "    offspring1 = [gene for gene in offspring1 if gene is not None]\n",
    "    offspring2 = [gene for gene in offspring2 if gene is not None]\n",
    "    offspring1.append(offspring1[0])\n",
    "    offspring2.append(offspring2[0])\n",
    "    return Individual(offspring1), Individual(offspring2)"
   ]
  },
  {
   "cell_type": "markdown",
   "metadata": {},
   "source": [
    "## Mutation Algorithms"
   ]
  },
  {
   "cell_type": "code",
   "execution_count": 706,
   "metadata": {},
   "outputs": [],
   "source": [
    "def mutation(p:Individual,multi_mutation=False)->Individual:\n",
    "    genome = p.genome.copy()\n",
    "    x = 0\n",
    "    while x < 0.5:\n",
    "        idx_city1 = np.random.randint(len(cities))\n",
    "        idx_city2 = np.random.randint(len(cities))\n",
    "\n",
    "        genome[idx_city1],genome[idx_city2] = genome[idx_city2],genome[idx_city1]\n",
    "\n",
    "        x = np.random.random()\n",
    "        if not multi_mutation:\n",
    "            break\n",
    "    return Individual(genome)\n",
    "\n",
    "def mutationRSMPopulation(population:list[Individual])->list[Individual]: #reverse sequence mutation over the entire population\n",
    "    offspring=copy.deepcopy(population)\n",
    "    for i in range(len(population)):\n",
    "        idx1 = np.random.randint(1,len(population[i].genome)-1)\n",
    "        idx2 = np.random.randint(1,len(population[i].genome)-1)\n",
    "        while idx1 == idx2:\n",
    "            idx2 = np.random.randint(1,len(population[i].genome)-1)\n",
    "        low,high=sorted([idx1,idx2])\n",
    "        offspring[i].genome[low:high] = offspring[i].genome[high-1:low-1:-1]\n",
    "    return offspring\n",
    "\n",
    "def mutate_whole_population(population:list[Individual], mutation_rate:float)->list[Individual]:\n",
    "    mutated_population = copy.deepcopy(population)\n",
    "    # mutated_population = population[:]\n",
    "    for i in range(len(mutated_population)):\n",
    "        has_mutated = False\n",
    "        mutation_probabilities = [np.random.random()< mutation_rate for _ in range(len(cities))]\n",
    "        mutation_points = [i for i in range(len(cities)) if mutation_probabilities[i]]\n",
    "        if len(mutation_probabilities)>0:\n",
    "            for point in mutation_points:\n",
    "                idx_city1 = point\n",
    "                idx_city2 = np.random.randint(len(cities))\n",
    "\n",
    "                mutated_population[i].genome[idx_city1],mutated_population[i].genome[idx_city2] = mutated_population[i].genome[idx_city2],mutated_population[i].genome[idx_city1]              \n",
    "            \n",
    "                has_mutated = True\n",
    "\n",
    "        if has_mutated:\n",
    "            mutated_population[i].fitness = fitness(mutated_population[i])\n",
    "    return mutated_population"
   ]
  },
  {
   "cell_type": "code",
   "execution_count": 707,
   "metadata": {},
   "outputs": [
    {
     "name": "stdout",
     "output_type": "stream",
     "text": [
      "[2, 3, 4, 5]\n",
      "[5, 4, 3, 2]\n"
     ]
    }
   ],
   "source": [
    "a = [1,2,3,4,5,6]\n",
    "low = 1\n",
    "high = 5\n",
    "print(a[low:high])\n",
    "print(a[high-1:low-1:-1])"
   ]
  },
  {
   "cell_type": "code",
   "execution_count": 708,
   "metadata": {},
   "outputs": [],
   "source": [
    "def parent_selection(population:list[Individual]):\n",
    "    #tournament challengers\n",
    "    challengers = np.random.choice(population,2)\n",
    "    candidates = sorted(challengers, key=lambda e: e.fitness)\n",
    "    return candidates[0]\n",
    "\n",
    "def parent_selection_rank(population: list[Individual], num_parents: int) -> list[Individual]:\n",
    "    #assigning ranks based on fitness  \n",
    "    sorted_population = sorted(population, key=lambda ind: ind.fitness)\n",
    "    population_size = len(population)\n",
    "    ranks = np.arange(1, population_size + 1)\n",
    "    \n",
    "    # selecting parents based on the rank probabilities\n",
    "    total_rank_sum = sum(ranks)\n",
    "    probabilities = [(population_size - rank + 1) / total_rank_sum for rank in ranks]  #linear rank-based probability\n",
    "    selected_parents_indices = np.random.choice(np.arange(population_size), size=num_parents, replace=False, p=probabilities)\n",
    "    \n",
    "    selected_parents = [sorted_population[idx] for idx in selected_parents_indices]\n",
    "    \n",
    "    return selected_parents"
   ]
  },
  {
   "cell_type": "code",
   "execution_count": 709,
   "metadata": {},
   "outputs": [
    {
     "name": "stdout",
     "output_type": "stream",
     "text": [
      "6\n"
     ]
    }
   ],
   "source": [
    "a = [1,2,3,4,5,6]\n",
    "print(a[-1])"
   ]
  },
  {
   "cell_type": "code",
   "execution_count": 710,
   "metadata": {},
   "outputs": [],
   "source": [
    "def get_starting_solution()->Individual:\n",
    "    \"\"\"\n",
    "    Compute a greedy sub-optimal solution\n",
    "    \"\"\"\n",
    "    visited = np.full(len(cities), False)\n",
    "    dist = dist_matrix.copy()\n",
    "    city = 0\n",
    "    visited[city] = True\n",
    "    tsp = list()\n",
    "    tsp.append(int(city))\n",
    "    a=0\n",
    "\n",
    "    while not np.all(visited):\n",
    "        dist[:, city] = np.inf\n",
    "        closest = np.argmin(dist[city])\n",
    "        # logging.debug(\n",
    "        #     f\"step: {cities.at[city,'name']} -> {cities.at[closest,'name']} ({dist_matrix[city,closest]:.2f}km)\"\n",
    "        # )\n",
    "        visited[closest] = True\n",
    "        city = closest\n",
    "        tsp.append(int(city))\n",
    "    # logging.debug(\n",
    "    #     f\"step: {cities.at[tsp[-1],'name']} -> {cities.at[tsp[0],'name']} ({dist_matrix[tsp[-1],tsp[0]]:.2f}km)\"\n",
    "    # )\n",
    "    tsp.append(tsp[0])\n",
    "    return Individual(tsp)\n",
    "\n",
    "def generate_solution_from_existing(parent:Individual)->Individual:\n",
    "    new_genome = random.sample(parent.genome[:-1],len(parent.genome[:-1]))\n",
    "    new_genome.append(new_genome[0])\n",
    "    return Individual(new_genome)"
   ]
  },
  {
   "cell_type": "code",
   "execution_count": 711,
   "metadata": {},
   "outputs": [],
   "source": [
    "e = get_starting_solution()\n",
    "e2 = generate_solution_from_existing(e)\n",
    "offspring1= crossover(e, e2)\n",
    "# print(e.genome)\n",
    "# print(e2.genome)\n",
    "assert len(offspring1.genome[:-1]) == len(set(offspring1.genome))\n"
   ]
  },
  {
   "cell_type": "markdown",
   "metadata": {},
   "source": [
    "### Evolutionary Algorithm"
   ]
  },
  {
   "cell_type": "code",
   "execution_count": 712,
   "metadata": {},
   "outputs": [
    {
     "name": "stderr",
     "output_type": "stream",
     "text": [
      "ic| tot_cost: np.float64(4436.03176952516)\n",
      " 10%|▉         | 994/10000 [00:02<00:19, 456.67it/s]ic| 'Takeover at iteration', generation: 1034\n",
      "100%|██████████| 10000/10000 [00:26<00:00, 372.77it/s]"
     ]
    },
    {
     "name": "stdout",
     "output_type": "stream",
     "text": [
      "4181.6197997589\n"
     ]
    },
    {
     "name": "stderr",
     "output_type": "stream",
     "text": [
      "\n"
     ]
    }
   ],
   "source": [
    "# We start from an already sub-optimal greedy solution and then we try to optimize it further\n",
    "starting_individual = get_starting_solution()\n",
    "tot_cost = fitness(starting_individual)\n",
    "starting_individual.fitness=tot_cost\n",
    "ic(tot_cost)\n",
    "best_sol_so_far = starting_individual\n",
    "\n",
    "POPULATION_SIZE = 100\n",
    "OFFSPRING_SIZE= POPULATION_SIZE//2\n",
    "VALHALLA_RATE = 0.2\n",
    "\n",
    "population = [generate_solution_from_existing(starting_individual) for _ in range(POPULATION_SIZE-1)]\n",
    "population.append(starting_individual)\n",
    "\n",
    "\n",
    "for elem in population:\n",
    "    elem.fitness = fitness(elem)\n",
    "take_over=False\n",
    "offspring = list()\n",
    "for generation in tqdm(range(10_000)):\n",
    "    offspring = []\n",
    "\n",
    "    offspring = mutationRSMPopulation(random.sample(population,OFFSPRING_SIZE))\n",
    "\n",
    "    for i in offspring:\n",
    "        i.fitness = fitness(i)\n",
    "\n",
    "    if np.random.random() < VALHALLA_RATE and best_sol_so_far not in population:\n",
    "        population.append(best_sol_so_far)\n",
    "\n",
    "    population.extend(offspring)\n",
    "    population.sort(key=lambda i: i.fitness)\n",
    "    population = population[:POPULATION_SIZE]\n",
    "\n",
    "    if not take_over:\n",
    "        take_over = all([population[0].genome == e.genome for e in population])\n",
    "        if take_over:\n",
    "            ic(\"Takeover at iteration\",generation)\n",
    "    if population[0].fitness < best_sol_so_far.fitness:\n",
    "        best_sol_so_far = population[0]\n",
    "            \n",
    "    # for e in population:\n",
    "    #     print(e.genome)\n",
    "    # print(\"-\")\n",
    "# for e in population:\n",
    "#     print(e)\n",
    "# ic(best_sol_so_far.fitness)\n",
    "print(best_sol_so_far.fitness)"
   ]
  }
 ],
 "metadata": {
  "kernelspec": {
   "display_name": "VENVLAB2",
   "language": "python",
   "name": "python3"
  },
  "language_info": {
   "codemirror_mode": {
    "name": "ipython",
    "version": 3
   },
   "file_extension": ".py",
   "mimetype": "text/x-python",
   "name": "python",
   "nbconvert_exporter": "python",
   "pygments_lexer": "ipython3",
   "version": "3.10.11"
  }
 },
 "nbformat": 4,
 "nbformat_minor": 2
}
